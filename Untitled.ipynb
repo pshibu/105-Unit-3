{
 "cells": [
  {
   "cell_type": "markdown",
   "id": "1da09cab-635a-48b0-86e7-e5c2525dffea",
   "metadata": {},
   "source": [
    "### Feeder 3.1"
   ]
  },
  {
   "cell_type": "markdown",
   "id": "7a83451e-d66e-462d-ac29-80c75a7ffbde",
   "metadata": {},
   "source": [
    "Step 1: Download a csv file of your chosen data set.\n",
    "\n",
    "Step 2: Open up JupyterLab.\n",
    "\n",
    "Step 3: Import pandas as pd.\n",
    "\n",
    "Step 4: Upload the raw data from the chosen data set by typing rawdata=pd.read_csv(\"name of file\")\n",
    "\n",
    "Step 5: Specify what rows and columns you want to pull, and list them by creating a subset for the data. Type in the name of your subset = df[[and list your column headers seperated by commas]][[the rows you wanted shown, seperated by a :]]\n",
    "\n",
    "Step 5: type in the name of your subset to make it appear.\n"
   ]
  },
  {
   "cell_type": "markdown",
   "id": "a08d808b-7e7c-40bd-9677-4a62b57c17e4",
   "metadata": {},
   "source": [
    "import pandas as pd"
   ]
  },
  {
   "cell_type": "markdown",
   "id": "f7319d03-019d-4c66-b870-a4a727a1bac9",
   "metadata": {},
   "source": [
    "rawdata=pd.read_csv(\"CountyHealthData_2014-2015.csv\")"
   ]
  },
  {
   "cell_type": "code",
   "execution_count": 10,
   "id": "ab61df88-d78a-4084-86f1-89d2c4637e07",
   "metadata": {},
   "outputs": [],
   "source": [
    "df=pd.read_csv(\"CountyHealthData_2014-2015.csv\")"
   ]
  },
  {
   "cell_type": "code",
   "execution_count": 24,
   "id": "ab7167eb-2227-4f99-8143-3a223396df84",
   "metadata": {},
   "outputs": [],
   "source": [
    "RI_subset = df[[\"State\", \"Year\", \"County\", \"Poor physical health days\", \"Poor mental health days\"]][3245:3444]"
   ]
  },
  {
   "cell_type": "code",
   "execution_count": 25,
   "id": "1515ec21-af35-4f6a-9d02-fba065573a07",
   "metadata": {},
   "outputs": [
    {
     "data": {
      "text/html": [
       "<div>\n",
       "<style scoped>\n",
       "    .dataframe tbody tr th:only-of-type {\n",
       "        vertical-align: middle;\n",
       "    }\n",
       "\n",
       "    .dataframe tbody tr th {\n",
       "        vertical-align: top;\n",
       "    }\n",
       "\n",
       "    .dataframe thead th {\n",
       "        text-align: right;\n",
       "    }\n",
       "</style>\n",
       "<table border=\"1\" class=\"dataframe\">\n",
       "  <thead>\n",
       "    <tr style=\"text-align: right;\">\n",
       "      <th></th>\n",
       "      <th>State</th>\n",
       "      <th>Year</th>\n",
       "      <th>County</th>\n",
       "      <th>Poor physical health days</th>\n",
       "      <th>Poor mental health days</th>\n",
       "    </tr>\n",
       "  </thead>\n",
       "  <tbody>\n",
       "    <tr>\n",
       "      <th>3245</th>\n",
       "      <td>NC</td>\n",
       "      <td>1/1/2014</td>\n",
       "      <td>Alexander County</td>\n",
       "      <td>4.3</td>\n",
       "      <td>4.6</td>\n",
       "    </tr>\n",
       "    <tr>\n",
       "      <th>3246</th>\n",
       "      <td>NC</td>\n",
       "      <td>1/1/2015</td>\n",
       "      <td>Alexander County</td>\n",
       "      <td>4.3</td>\n",
       "      <td>4.6</td>\n",
       "    </tr>\n",
       "    <tr>\n",
       "      <th>3247</th>\n",
       "      <td>NC</td>\n",
       "      <td>1/1/2014</td>\n",
       "      <td>Alleghany County</td>\n",
       "      <td>3.9</td>\n",
       "      <td>4.4</td>\n",
       "    </tr>\n",
       "    <tr>\n",
       "      <th>3248</th>\n",
       "      <td>NC</td>\n",
       "      <td>1/1/2015</td>\n",
       "      <td>Alleghany County</td>\n",
       "      <td>3.9</td>\n",
       "      <td>4.4</td>\n",
       "    </tr>\n",
       "    <tr>\n",
       "      <th>3249</th>\n",
       "      <td>NC</td>\n",
       "      <td>1/1/2014</td>\n",
       "      <td>Anson County</td>\n",
       "      <td>4.0</td>\n",
       "      <td>NaN</td>\n",
       "    </tr>\n",
       "    <tr>\n",
       "      <th>...</th>\n",
       "      <td>...</td>\n",
       "      <td>...</td>\n",
       "      <td>...</td>\n",
       "      <td>...</td>\n",
       "      <td>...</td>\n",
       "    </tr>\n",
       "    <tr>\n",
       "      <th>3439</th>\n",
       "      <td>NC</td>\n",
       "      <td>1/1/2014</td>\n",
       "      <td>Yadkin County</td>\n",
       "      <td>4.1</td>\n",
       "      <td>4.6</td>\n",
       "    </tr>\n",
       "    <tr>\n",
       "      <th>3440</th>\n",
       "      <td>NC</td>\n",
       "      <td>1/1/2015</td>\n",
       "      <td>Yadkin County</td>\n",
       "      <td>4.1</td>\n",
       "      <td>4.6</td>\n",
       "    </tr>\n",
       "    <tr>\n",
       "      <th>3441</th>\n",
       "      <td>NC</td>\n",
       "      <td>1/1/2014</td>\n",
       "      <td>Yancey County</td>\n",
       "      <td>5.5</td>\n",
       "      <td>4.1</td>\n",
       "    </tr>\n",
       "    <tr>\n",
       "      <th>3442</th>\n",
       "      <td>NC</td>\n",
       "      <td>1/1/2015</td>\n",
       "      <td>Yancey County</td>\n",
       "      <td>5.5</td>\n",
       "      <td>4.1</td>\n",
       "    </tr>\n",
       "    <tr>\n",
       "      <th>3443</th>\n",
       "      <td>ND</td>\n",
       "      <td>1/1/2014</td>\n",
       "      <td>Adams County</td>\n",
       "      <td>2.5</td>\n",
       "      <td>3.0</td>\n",
       "    </tr>\n",
       "  </tbody>\n",
       "</table>\n",
       "<p>199 rows × 5 columns</p>\n",
       "</div>"
      ],
      "text/plain": [
       "     State      Year            County  Poor physical health days  \\\n",
       "3245    NC  1/1/2014  Alexander County                        4.3   \n",
       "3246    NC  1/1/2015  Alexander County                        4.3   \n",
       "3247    NC  1/1/2014  Alleghany County                        3.9   \n",
       "3248    NC  1/1/2015  Alleghany County                        3.9   \n",
       "3249    NC  1/1/2014      Anson County                        4.0   \n",
       "...    ...       ...               ...                        ...   \n",
       "3439    NC  1/1/2014     Yadkin County                        4.1   \n",
       "3440    NC  1/1/2015     Yadkin County                        4.1   \n",
       "3441    NC  1/1/2014     Yancey County                        5.5   \n",
       "3442    NC  1/1/2015     Yancey County                        5.5   \n",
       "3443    ND  1/1/2014      Adams County                        2.5   \n",
       "\n",
       "      Poor mental health days  \n",
       "3245                      4.6  \n",
       "3246                      4.6  \n",
       "3247                      4.4  \n",
       "3248                      4.4  \n",
       "3249                      NaN  \n",
       "...                       ...  \n",
       "3439                      4.6  \n",
       "3440                      4.6  \n",
       "3441                      4.1  \n",
       "3442                      4.1  \n",
       "3443                      3.0  \n",
       "\n",
       "[199 rows x 5 columns]"
      ]
     },
     "execution_count": 25,
     "metadata": {},
     "output_type": "execute_result"
    }
   ],
   "source": [
    "RI_subset"
   ]
  },
  {
   "cell_type": "code",
   "execution_count": 26,
   "id": "34625b93-f337-4d7c-ae89-cde3ab570d41",
   "metadata": {},
   "outputs": [],
   "source": [
    "RI_subset.to_csv(\"RI_subset.csv\", index=False)"
   ]
  },
  {
   "cell_type": "code",
   "execution_count": null,
   "id": "7d92a275-288f-47d7-b1b0-de004ba63d1f",
   "metadata": {},
   "outputs": [],
   "source": []
  }
 ],
 "metadata": {
  "kernelspec": {
   "display_name": "Python 3 (ipykernel)",
   "language": "python",
   "name": "python3"
  },
  "language_info": {
   "codemirror_mode": {
    "name": "ipython",
    "version": 3
   },
   "file_extension": ".py",
   "mimetype": "text/x-python",
   "name": "python",
   "nbconvert_exporter": "python",
   "pygments_lexer": "ipython3",
   "version": "3.9.13"
  }
 },
 "nbformat": 4,
 "nbformat_minor": 5
}
